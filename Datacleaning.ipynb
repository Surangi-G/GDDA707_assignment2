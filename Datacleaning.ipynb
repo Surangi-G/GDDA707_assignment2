{
 "cells": [
  {
   "cell_type": "code",
   "execution_count": 123,
   "id": "a1ce537e-3d4d-4ac7-b436-b456ea2caffa",
   "metadata": {},
   "outputs": [],
   "source": [
    "import pandas as pd\n",
    "import matplotlib.pyplot as plt"
   ]
  },
  {
   "cell_type": "code",
   "execution_count": 124,
   "id": "6d565d79-089f-406a-8025-9e610379eb8a",
   "metadata": {},
   "outputs": [],
   "source": [
    "#Defining file paths to locate the needful files\n",
    "customer_info_filepath = 'customer_data.csv'\n",
    "sales_data_filepath = 'sales_data.csv'"
   ]
  },
  {
   "cell_type": "code",
   "execution_count": 125,
   "id": "403c9f18-d2cf-4d1f-a1a5-16695eda2bdb",
   "metadata": {},
   "outputs": [],
   "source": [
    "# Load datasets\n",
    "customer = pd.read_csv(customer_info_filepath)\n",
    "sales = pd.read_csv(sales_data_filepath)"
   ]
  },
  {
   "cell_type": "code",
   "execution_count": 126,
   "id": "bb3075be-d800-4347-9a6f-47454fa5ae87",
   "metadata": {},
   "outputs": [
    {
     "data": {
      "text/html": [
       "<div>\n",
       "<style scoped>\n",
       "    .dataframe tbody tr th:only-of-type {\n",
       "        vertical-align: middle;\n",
       "    }\n",
       "\n",
       "    .dataframe tbody tr th {\n",
       "        vertical-align: top;\n",
       "    }\n",
       "\n",
       "    .dataframe thead th {\n",
       "        text-align: right;\n",
       "    }\n",
       "</style>\n",
       "<table border=\"1\" class=\"dataframe\">\n",
       "  <thead>\n",
       "    <tr style=\"text-align: right;\">\n",
       "      <th></th>\n",
       "      <th>customer_id</th>\n",
       "      <th>gender</th>\n",
       "      <th>age</th>\n",
       "      <th>payment_method</th>\n",
       "    </tr>\n",
       "  </thead>\n",
       "  <tbody>\n",
       "    <tr>\n",
       "      <th>0</th>\n",
       "      <td>C241288</td>\n",
       "      <td>Female</td>\n",
       "      <td>28.0</td>\n",
       "      <td>Credit Card</td>\n",
       "    </tr>\n",
       "    <tr>\n",
       "      <th>1</th>\n",
       "      <td>C111565</td>\n",
       "      <td>Male</td>\n",
       "      <td>21.0</td>\n",
       "      <td>Debit Card</td>\n",
       "    </tr>\n",
       "    <tr>\n",
       "      <th>2</th>\n",
       "      <td>C266599</td>\n",
       "      <td>Male</td>\n",
       "      <td>20.0</td>\n",
       "      <td>Cash</td>\n",
       "    </tr>\n",
       "    <tr>\n",
       "      <th>3</th>\n",
       "      <td>C988172</td>\n",
       "      <td>Female</td>\n",
       "      <td>66.0</td>\n",
       "      <td>Credit Card</td>\n",
       "    </tr>\n",
       "    <tr>\n",
       "      <th>4</th>\n",
       "      <td>C189076</td>\n",
       "      <td>Female</td>\n",
       "      <td>53.0</td>\n",
       "      <td>Cash</td>\n",
       "    </tr>\n",
       "  </tbody>\n",
       "</table>\n",
       "</div>"
      ],
      "text/plain": [
       "  customer_id  gender   age payment_method\n",
       "0     C241288  Female  28.0    Credit Card\n",
       "1     C111565    Male  21.0     Debit Card\n",
       "2     C266599    Male  20.0           Cash\n",
       "3     C988172  Female  66.0    Credit Card\n",
       "4     C189076  Female  53.0           Cash"
      ]
     },
     "execution_count": 126,
     "metadata": {},
     "output_type": "execute_result"
    }
   ],
   "source": [
    "# Display first few rows of each dataset\n",
    "customer.head()"
   ]
  },
  {
   "cell_type": "code",
   "execution_count": 127,
   "id": "c9795f0f-72da-462d-a536-058477205880",
   "metadata": {},
   "outputs": [
    {
     "data": {
      "text/html": [
       "<div>\n",
       "<style scoped>\n",
       "    .dataframe tbody tr th:only-of-type {\n",
       "        vertical-align: middle;\n",
       "    }\n",
       "\n",
       "    .dataframe tbody tr th {\n",
       "        vertical-align: top;\n",
       "    }\n",
       "\n",
       "    .dataframe thead th {\n",
       "        text-align: right;\n",
       "    }\n",
       "</style>\n",
       "<table border=\"1\" class=\"dataframe\">\n",
       "  <thead>\n",
       "    <tr style=\"text-align: right;\">\n",
       "      <th></th>\n",
       "      <th>customer_id</th>\n",
       "      <th>gender</th>\n",
       "      <th>age</th>\n",
       "      <th>payment_method</th>\n",
       "    </tr>\n",
       "  </thead>\n",
       "  <tbody>\n",
       "    <tr>\n",
       "      <th>99452</th>\n",
       "      <td>C441542</td>\n",
       "      <td>Female</td>\n",
       "      <td>45.0</td>\n",
       "      <td>Credit Card</td>\n",
       "    </tr>\n",
       "    <tr>\n",
       "      <th>99453</th>\n",
       "      <td>C569580</td>\n",
       "      <td>Male</td>\n",
       "      <td>27.0</td>\n",
       "      <td>Cash</td>\n",
       "    </tr>\n",
       "    <tr>\n",
       "      <th>99454</th>\n",
       "      <td>C103292</td>\n",
       "      <td>Male</td>\n",
       "      <td>63.0</td>\n",
       "      <td>Debit Card</td>\n",
       "    </tr>\n",
       "    <tr>\n",
       "      <th>99455</th>\n",
       "      <td>C800631</td>\n",
       "      <td>Male</td>\n",
       "      <td>56.0</td>\n",
       "      <td>Cash</td>\n",
       "    </tr>\n",
       "    <tr>\n",
       "      <th>99456</th>\n",
       "      <td>C273973</td>\n",
       "      <td>Female</td>\n",
       "      <td>36.0</td>\n",
       "      <td>Credit Card</td>\n",
       "    </tr>\n",
       "  </tbody>\n",
       "</table>\n",
       "</div>"
      ],
      "text/plain": [
       "      customer_id  gender   age payment_method\n",
       "99452     C441542  Female  45.0    Credit Card\n",
       "99453     C569580    Male  27.0           Cash\n",
       "99454     C103292    Male  63.0     Debit Card\n",
       "99455     C800631    Male  56.0           Cash\n",
       "99456     C273973  Female  36.0    Credit Card"
      ]
     },
     "execution_count": 127,
     "metadata": {},
     "output_type": "execute_result"
    }
   ],
   "source": [
    "customer.tail()"
   ]
  },
  {
   "cell_type": "code",
   "execution_count": 128,
   "id": "18603682-9bd4-4b33-8b7e-e205aa1dea18",
   "metadata": {},
   "outputs": [
    {
     "data": {
      "text/html": [
       "<div>\n",
       "<style scoped>\n",
       "    .dataframe tbody tr th:only-of-type {\n",
       "        vertical-align: middle;\n",
       "    }\n",
       "\n",
       "    .dataframe tbody tr th {\n",
       "        vertical-align: top;\n",
       "    }\n",
       "\n",
       "    .dataframe thead th {\n",
       "        text-align: right;\n",
       "    }\n",
       "</style>\n",
       "<table border=\"1\" class=\"dataframe\">\n",
       "  <thead>\n",
       "    <tr style=\"text-align: right;\">\n",
       "      <th></th>\n",
       "      <th>invoice_no</th>\n",
       "      <th>customer_id</th>\n",
       "      <th>category</th>\n",
       "      <th>quantity</th>\n",
       "      <th>price</th>\n",
       "      <th>invoice_date</th>\n",
       "      <th>shopping_mall</th>\n",
       "    </tr>\n",
       "  </thead>\n",
       "  <tbody>\n",
       "    <tr>\n",
       "      <th>0</th>\n",
       "      <td>I138884</td>\n",
       "      <td>C241288</td>\n",
       "      <td>Clothing</td>\n",
       "      <td>5</td>\n",
       "      <td>1500.40</td>\n",
       "      <td>5/8/2022</td>\n",
       "      <td>Kanyon</td>\n",
       "    </tr>\n",
       "    <tr>\n",
       "      <th>1</th>\n",
       "      <td>I317333</td>\n",
       "      <td>C111565</td>\n",
       "      <td>Shoes</td>\n",
       "      <td>3</td>\n",
       "      <td>1800.51</td>\n",
       "      <td>12/12/2021</td>\n",
       "      <td>Forum Istanbul</td>\n",
       "    </tr>\n",
       "    <tr>\n",
       "      <th>2</th>\n",
       "      <td>I127801</td>\n",
       "      <td>C266599</td>\n",
       "      <td>Clothing</td>\n",
       "      <td>1</td>\n",
       "      <td>300.08</td>\n",
       "      <td>9/11/2021</td>\n",
       "      <td>Metrocity</td>\n",
       "    </tr>\n",
       "    <tr>\n",
       "      <th>3</th>\n",
       "      <td>I173702</td>\n",
       "      <td>C988172</td>\n",
       "      <td>Shoes</td>\n",
       "      <td>5</td>\n",
       "      <td>3000.85</td>\n",
       "      <td>16-05-2021</td>\n",
       "      <td>Metropol AVM</td>\n",
       "    </tr>\n",
       "    <tr>\n",
       "      <th>4</th>\n",
       "      <td>I337046</td>\n",
       "      <td>C189076</td>\n",
       "      <td>Books</td>\n",
       "      <td>4</td>\n",
       "      <td>60.60</td>\n",
       "      <td>24-10-2021</td>\n",
       "      <td>Kanyon</td>\n",
       "    </tr>\n",
       "  </tbody>\n",
       "</table>\n",
       "</div>"
      ],
      "text/plain": [
       "  invoice_no customer_id  category  quantity    price invoice_date  \\\n",
       "0    I138884     C241288  Clothing         5  1500.40     5/8/2022   \n",
       "1    I317333     C111565     Shoes         3  1800.51   12/12/2021   \n",
       "2    I127801     C266599  Clothing         1   300.08    9/11/2021   \n",
       "3    I173702     C988172     Shoes         5  3000.85   16-05-2021   \n",
       "4    I337046     C189076     Books         4    60.60   24-10-2021   \n",
       "\n",
       "    shopping_mall  \n",
       "0          Kanyon  \n",
       "1  Forum Istanbul  \n",
       "2       Metrocity  \n",
       "3    Metropol AVM  \n",
       "4          Kanyon  "
      ]
     },
     "execution_count": 128,
     "metadata": {},
     "output_type": "execute_result"
    }
   ],
   "source": [
    "sales.head()"
   ]
  },
  {
   "cell_type": "code",
   "execution_count": 129,
   "id": "fc885796-ff21-4663-b777-060393f6b400",
   "metadata": {},
   "outputs": [
    {
     "data": {
      "text/html": [
       "<div>\n",
       "<style scoped>\n",
       "    .dataframe tbody tr th:only-of-type {\n",
       "        vertical-align: middle;\n",
       "    }\n",
       "\n",
       "    .dataframe tbody tr th {\n",
       "        vertical-align: top;\n",
       "    }\n",
       "\n",
       "    .dataframe thead th {\n",
       "        text-align: right;\n",
       "    }\n",
       "</style>\n",
       "<table border=\"1\" class=\"dataframe\">\n",
       "  <thead>\n",
       "    <tr style=\"text-align: right;\">\n",
       "      <th></th>\n",
       "      <th>invoice_no</th>\n",
       "      <th>customer_id</th>\n",
       "      <th>category</th>\n",
       "      <th>quantity</th>\n",
       "      <th>price</th>\n",
       "      <th>invoice_date</th>\n",
       "      <th>shopping_mall</th>\n",
       "    </tr>\n",
       "  </thead>\n",
       "  <tbody>\n",
       "    <tr>\n",
       "      <th>99454</th>\n",
       "      <td>I219422</td>\n",
       "      <td>C441542</td>\n",
       "      <td>Souvenir</td>\n",
       "      <td>5</td>\n",
       "      <td>58.65</td>\n",
       "      <td>21-09-2022</td>\n",
       "      <td>Kanyon</td>\n",
       "    </tr>\n",
       "    <tr>\n",
       "      <th>99455</th>\n",
       "      <td>I325143</td>\n",
       "      <td>C569580</td>\n",
       "      <td>Food &amp; Beverage</td>\n",
       "      <td>2</td>\n",
       "      <td>10.46</td>\n",
       "      <td>22-09-2021</td>\n",
       "      <td>Forum Istanbul</td>\n",
       "    </tr>\n",
       "    <tr>\n",
       "      <th>99456</th>\n",
       "      <td>I824010</td>\n",
       "      <td>C103292</td>\n",
       "      <td>Food &amp; Beverage</td>\n",
       "      <td>2</td>\n",
       "      <td>10.46</td>\n",
       "      <td>28-03-2021</td>\n",
       "      <td>Metrocity</td>\n",
       "    </tr>\n",
       "    <tr>\n",
       "      <th>99457</th>\n",
       "      <td>I702964</td>\n",
       "      <td>C800631</td>\n",
       "      <td>Technology</td>\n",
       "      <td>4</td>\n",
       "      <td>4200.00</td>\n",
       "      <td>16-03-2021</td>\n",
       "      <td>Istinye Park</td>\n",
       "    </tr>\n",
       "    <tr>\n",
       "      <th>99458</th>\n",
       "      <td>I232867</td>\n",
       "      <td>C273973</td>\n",
       "      <td>Souvenir</td>\n",
       "      <td>3</td>\n",
       "      <td>35.19</td>\n",
       "      <td>15-10-2022</td>\n",
       "      <td>Mall of Istanbul</td>\n",
       "    </tr>\n",
       "  </tbody>\n",
       "</table>\n",
       "</div>"
      ],
      "text/plain": [
       "      invoice_no customer_id         category  quantity    price invoice_date  \\\n",
       "99454    I219422     C441542         Souvenir         5    58.65   21-09-2022   \n",
       "99455    I325143     C569580  Food & Beverage         2    10.46   22-09-2021   \n",
       "99456    I824010     C103292  Food & Beverage         2    10.46   28-03-2021   \n",
       "99457    I702964     C800631       Technology         4  4200.00   16-03-2021   \n",
       "99458    I232867     C273973         Souvenir         3    35.19   15-10-2022   \n",
       "\n",
       "          shopping_mall  \n",
       "99454            Kanyon  \n",
       "99455    Forum Istanbul  \n",
       "99456         Metrocity  \n",
       "99457      Istinye Park  \n",
       "99458  Mall of Istanbul  "
      ]
     },
     "execution_count": 129,
     "metadata": {},
     "output_type": "execute_result"
    }
   ],
   "source": [
    "sales.tail()"
   ]
  },
  {
   "cell_type": "code",
   "execution_count": 130,
   "id": "d5de9e20-5634-4e2a-b8ee-e76013df3594",
   "metadata": {},
   "outputs": [
    {
     "name": "stdout",
     "output_type": "stream",
     "text": [
      "<class 'pandas.core.frame.DataFrame'>\n",
      "RangeIndex: 99457 entries, 0 to 99456\n",
      "Data columns (total 4 columns):\n",
      " #   Column          Non-Null Count  Dtype  \n",
      "---  ------          --------------  -----  \n",
      " 0   customer_id     99457 non-null  object \n",
      " 1   gender          99457 non-null  object \n",
      " 2   age             99338 non-null  float64\n",
      " 3   payment_method  99457 non-null  object \n",
      "dtypes: float64(1), object(3)\n",
      "memory usage: 3.0+ MB\n"
     ]
    }
   ],
   "source": [
    "#check for Dataset info\n",
    "customer.info()"
   ]
  },
  {
   "cell_type": "code",
   "execution_count": 131,
   "id": "a6611ea6-f5f3-4da7-98dc-b48e1ac9f486",
   "metadata": {},
   "outputs": [
    {
     "name": "stdout",
     "output_type": "stream",
     "text": [
      "<class 'pandas.core.frame.DataFrame'>\n",
      "RangeIndex: 99459 entries, 0 to 99458\n",
      "Data columns (total 7 columns):\n",
      " #   Column         Non-Null Count  Dtype  \n",
      "---  ------         --------------  -----  \n",
      " 0   invoice_no     99459 non-null  object \n",
      " 1   customer_id    99459 non-null  object \n",
      " 2   category       99459 non-null  object \n",
      " 3   quantity       99459 non-null  int64  \n",
      " 4   price          99459 non-null  float64\n",
      " 5   invoice_date   99455 non-null  object \n",
      " 6   shopping_mall  99459 non-null  object \n",
      "dtypes: float64(1), int64(1), object(5)\n",
      "memory usage: 5.3+ MB\n"
     ]
    }
   ],
   "source": [
    "sales.info()"
   ]
  },
  {
   "cell_type": "code",
   "execution_count": 132,
   "id": "f8d6b25c-5baf-4296-8dc5-0064cb5ad5de",
   "metadata": {},
   "outputs": [],
   "source": [
    "# Creating a function to clean date strings\n",
    "def clean_date(date_str):\n",
    "    if isinstance(date_str, str):\n",
    "        # Replace '/' with '-'\n",
    "        date_str = date_str.replace('/', '-')\n",
    "    return date_str\n",
    "\n",
    "# Applying the cleaning function to the invoice_date column\n",
    "sales['invoice_date'] = sales['invoice_date'].apply(clean_date)\n",
    "\n",
    "# Converting the cleaned date strings to datetime\n",
    "sales['invoice_date'] = pd.to_datetime(sales['invoice_date'], dayfirst=True, errors='coerce')"
   ]
  },
  {
   "cell_type": "code",
   "execution_count": 133,
   "id": "0f724406-58e1-4599-8365-cc2e8d19566f",
   "metadata": {},
   "outputs": [],
   "source": [
    "# Ensure ID is the same type in both datasets\n",
    "customer['customer_id'] = customer['customer_id'].astype(str)\n",
    "sales['customer_id'] = sales['customer_id'].astype(str)"
   ]
  },
  {
   "cell_type": "code",
   "execution_count": 134,
   "id": "d0dd41ec-5a82-4d2f-bff9-0ab31b602849",
   "metadata": {},
   "outputs": [
    {
     "data": {
      "text/plain": [
       "invoice_no               object\n",
       "customer_id              object\n",
       "category                 object\n",
       "quantity                  int64\n",
       "price                   float64\n",
       "invoice_date     datetime64[ns]\n",
       "shopping_mall            object\n",
       "dtype: object"
      ]
     },
     "execution_count": 134,
     "metadata": {},
     "output_type": "execute_result"
    }
   ],
   "source": [
    "sales.dtypes"
   ]
  },
  {
   "cell_type": "code",
   "execution_count": 135,
   "id": "2bc17e37-893a-41ce-9e37-e79e78eac137",
   "metadata": {},
   "outputs": [
    {
     "data": {
      "text/plain": [
       "invoice_no       0\n",
       "customer_id      0\n",
       "category         0\n",
       "quantity         0\n",
       "price            0\n",
       "invoice_date     4\n",
       "shopping_mall    0\n",
       "dtype: int64"
      ]
     },
     "execution_count": 135,
     "metadata": {},
     "output_type": "execute_result"
    }
   ],
   "source": [
    "sales.isnull().sum()"
   ]
  },
  {
   "cell_type": "code",
   "execution_count": 136,
   "id": "72e4fddc-a894-444b-acd4-4d0e5d1b2f87",
   "metadata": {},
   "outputs": [],
   "source": [
    "# Sort the sales data by 'invoice_no'\n",
    "sales.sort_values(by='invoice_no', inplace=True)\n"
   ]
  },
  {
   "cell_type": "code",
   "execution_count": 137,
   "id": "4255951c-4858-4712-89fe-ee7269b33aac",
   "metadata": {},
   "outputs": [
    {
     "name": "stderr",
     "output_type": "stream",
     "text": [
      "C:\\Users\\HP 850 G3\\AppData\\Local\\Temp\\ipykernel_8448\\1254077032.py:5: FutureWarning: Series.fillna with 'method' is deprecated and will raise in a future version. Use obj.ffill() or obj.bfill() instead.\n",
      "  sales['invoice_date'].fillna(method='ffill', inplace=True)\n"
     ]
    }
   ],
   "source": [
    "# Sort the sales data by 'invoice_no'\n",
    "sales.sort_values(by='invoice_no', inplace=True)\n",
    "\n",
    "# Perform forward fill on the 'invoice_date' column\n",
    "sales['invoice_date'].fillna(method='ffill', inplace=True)"
   ]
  },
  {
   "cell_type": "code",
   "execution_count": 138,
   "id": "d9a7e33d-3751-4173-97fc-aa771aed2e1f",
   "metadata": {},
   "outputs": [
    {
     "data": {
      "text/plain": [
       "invoice_no       0\n",
       "customer_id      0\n",
       "category         0\n",
       "quantity         0\n",
       "price            0\n",
       "invoice_date     0\n",
       "shopping_mall    0\n",
       "dtype: int64"
      ]
     },
     "execution_count": 138,
     "metadata": {},
     "output_type": "execute_result"
    }
   ],
   "source": [
    "sales.isnull().sum()"
   ]
  },
  {
   "cell_type": "code",
   "execution_count": 139,
   "id": "00aeaa05-bc77-4c93-a9a1-09a7d0a121c1",
   "metadata": {},
   "outputs": [
    {
     "data": {
      "text/plain": [
       "customer_id         0\n",
       "gender              0\n",
       "age               119\n",
       "payment_method      0\n",
       "dtype: int64"
      ]
     },
     "execution_count": 139,
     "metadata": {},
     "output_type": "execute_result"
    }
   ],
   "source": [
    "# Check for missing values\n",
    "customer.isnull().sum()"
   ]
  },
  {
   "cell_type": "code",
   "execution_count": 140,
   "id": "2ca483d7-22a5-4dcc-89ab-944df0f039a6",
   "metadata": {},
   "outputs": [
    {
     "data": {
      "text/plain": [
       "0.009002561847407666"
      ]
     },
     "execution_count": 140,
     "metadata": {},
     "output_type": "execute_result"
    }
   ],
   "source": [
    "#Checking for skewness of age column\n",
    "age_skewness = customer['age'].skew()\n",
    "age_skewness"
   ]
  },
  {
   "cell_type": "code",
   "execution_count": 142,
   "id": "b7cfe847-911c-4322-9e7e-6bb46766e7a9",
   "metadata": {},
   "outputs": [
    {
     "name": "stderr",
     "output_type": "stream",
     "text": [
      "C:\\Users\\HP 850 G3\\anaconda3\\Lib\\site-packages\\seaborn\\_oldcore.py:1119: FutureWarning: use_inf_as_na option is deprecated and will be removed in a future version. Convert inf values to NaN before operating instead.\n",
      "  with pd.option_context('mode.use_inf_as_na', True):\n"
     ]
    },
    {
     "data": {
      "image/png": "[encoded data removed]",
      "text/plain": [
       "<Figure size 640x480 with 1 Axes>"
      ]
     },
     "metadata": {},
     "output_type": "display_data"
    }
   ],
   "source": [
    "#plt.figure(figsize=(8, 6))\n",
    "sns.histplot(customer['age'], kde=True, bins=20)# Imputing missing values in the 'age' column with the mean\n",
    "customer['age'].fillna(customer['age'].mean(), inplace=True)"
   ]
  },
  {
   "cell_type": "code",
   "execution_count": 143,
   "id": "d7833ea7-e14d-4db4-a59e-0eddab7706fd",
   "metadata": {},
   "outputs": [],
   "source": [
    "# Imputing missing values in the 'age' column with the mean\n",
    "customer['age'].fillna(customer['age'].mean(), inplace=True)"
   ]
  },
  {
   "cell_type": "code",
   "execution_count": 144,
   "id": "32f8db86-6da3-4337-b0e1-039c43b3c580",
   "metadata": {},
   "outputs": [
    {
     "data": {
      "text/plain": [
       "customer_id       0\n",
       "gender            0\n",
       "age               0\n",
       "payment_method    0\n",
       "dtype: int64"
      ]
     },
     "execution_count": 144,
     "metadata": {},
     "output_type": "execute_result"
    }
   ],
   "source": [
    "customer.isnull().sum()"
   ]
  },
  {
   "cell_type": "code",
   "execution_count": 145,
   "id": "6ad882ba-a8ce-4585-a5b1-64b2dbf16956",
   "metadata": {},
   "outputs": [
    {
     "data": {
      "text/plain": [
       "0"
      ]
     },
     "execution_count": 145,
     "metadata": {},
     "output_type": "execute_result"
    }
   ],
   "source": [
    "#checking for duplicates\n",
    "customer_duplicates = customer.duplicated().sum()\n",
    "customer_duplicates"
   ]
  },
  {
   "cell_type": "code",
   "execution_count": 146,
   "id": "53b89d0c-3643-4ce3-8d93-cea6282860fe",
   "metadata": {},
   "outputs": [
    {
     "data": {
      "text/plain": [
       "2"
      ]
     },
     "execution_count": 146,
     "metadata": {},
     "output_type": "execute_result"
    }
   ],
   "source": [
    "sales_duplicates = sales.duplicated().sum()\n",
    "sales_duplicates"
   ]
  },
  {
   "cell_type": "code",
   "execution_count": 147,
   "id": "c9f8ba7a-1048-44ed-b8f3-05f673920a1f",
   "metadata": {},
   "outputs": [
    {
     "data": {
      "text/plain": [
       "0"
      ]
     },
     "execution_count": 147,
     "metadata": {},
     "output_type": "execute_result"
    }
   ],
   "source": [
    "# Remove duplicates\n",
    "sales.drop_duplicates(inplace=True)\n",
    "sales.duplicated().sum()\n"
   ]
  },
  {
   "cell_type": "code",
   "execution_count": null,
   "id": "ada5bb1c-9b9a-4de9-b838-9df4ae3b1e9e",
   "metadata": {},
   "outputs": [],
   "source": []
  },
  {
   "cell_type": "code",
   "execution_count": 148,
   "id": "5a903c24-4594-4d97-b614-7140c3281a56",
   "metadata": {},
   "outputs": [
    {
     "data": {
      "text/plain": [
       "category\n",
       "Clothing           34485\n",
       "Cosmetics          15097\n",
       "Food & Beverage    14776\n",
       "Toys               10087\n",
       "Shoes              10034\n",
       "Souvenir            4999\n",
       "Technology          4996\n",
       "Books               4981\n",
       "Clothin                2\n",
       "Name: count, dtype: int64"
      ]
     },
     "execution_count": 148,
     "metadata": {},
     "output_type": "execute_result"
    }
   ],
   "source": [
    "#Checking unique value counts to ensure no spelling errors in the variable names\n",
    "sales['category'].value_counts()"
   ]
  },
  {
   "cell_type": "code",
   "execution_count": 149,
   "id": "2863ccaa-10ba-4c63-90f5-35f997bba6aa",
   "metadata": {},
   "outputs": [],
   "source": [
    "category_mapping = {'Clothin': 'Clothing'}\n",
    "\n",
    "# Applying the mapping to correct the category names\n",
    "sales['category'] = sales['category'].replace(category_mapping)\n"
   ]
  },
  {
   "cell_type": "code",
   "execution_count": 150,
   "id": "f9f992f2-b00b-42c4-8df2-26a49bfb886d",
   "metadata": {},
   "outputs": [
    {
     "data": {
      "text/plain": [
       "category\n",
       "Clothing           34487\n",
       "Cosmetics          15097\n",
       "Food & Beverage    14776\n",
       "Toys               10087\n",
       "Shoes              10034\n",
       "Souvenir            4999\n",
       "Technology          4996\n",
       "Books               4981\n",
       "Name: count, dtype: int64"
      ]
     },
     "execution_count": 150,
     "metadata": {},
     "output_type": "execute_result"
    }
   ],
   "source": [
    "sales['category'].value_counts()"
   ]
  },
  {
   "cell_type": "code",
   "execution_count": 151,
   "id": "5a1495b3-4fa0-4af7-848c-5cebbc378d33",
   "metadata": {},
   "outputs": [
    {
     "data": {
      "text/plain": [
       "shopping_mall\n",
       "Mall of Istanbul     19943\n",
       "Kanyon               19823\n",
       "Metrocity            15011\n",
       "Metropol AVM         10161\n",
       "Istinye Park          9781\n",
       "Zorlu Center          5075\n",
       "Cevahir AVM           4991\n",
       "Forum Istanbul        4947\n",
       "Viaport Outlet        4914\n",
       "Emaar Square Mall     4811\n",
       "Name: count, dtype: int64"
      ]
     },
     "execution_count": 151,
     "metadata": {},
     "output_type": "execute_result"
    }
   ],
   "source": [
    "sales['shopping_mall'].value_counts()"
   ]
  },
  {
   "cell_type": "code",
   "execution_count": 152,
   "id": "cc037194-72c7-4f51-8a88-8022205905b1",
   "metadata": {},
   "outputs": [],
   "source": [
    "#Creating 'total_value' as quantity * price\n",
    "sales['total_value'] = sales['quantity'] * sales['price']"
   ]
  },
  {
   "cell_type": "code",
   "execution_count": 153,
   "id": "00941999-e48f-41a0-85d2-78fb98cb3774",
   "metadata": {},
   "outputs": [],
   "source": [
    "#New age group column\n",
    "bins = [0, 18, 30, 45, 60, 100]\n",
    "labels = ['<18', '18-30', '31-45', '46-60', '60+']\n",
    "\n",
    "# Create a new column 'age_group' based on the bins\n",
    "customer['age_bracket'] = pd.cut(customer['age'], bins=bins, labels=labels, right=False)"
   ]
  },
  {
   "cell_type": "code",
   "execution_count": 154,
   "id": "e4c4a93b-b1bf-4a84-8383-42ab27beb908",
   "metadata": {},
   "outputs": [
    {
     "data": {
      "text/html": [
       "<div>\n",
       "<style scoped>\n",
       "    .dataframe tbody tr th:only-of-type {\n",
       "        vertical-align: middle;\n",
       "    }\n",
       "\n",
       "    .dataframe tbody tr th {\n",
       "        vertical-align: top;\n",
       "    }\n",
       "\n",
       "    .dataframe thead th {\n",
       "        text-align: right;\n",
       "    }\n",
       "</style>\n",
       "<table border=\"1\" class=\"dataframe\">\n",
       "  <thead>\n",
       "    <tr style=\"text-align: right;\">\n",
       "      <th></th>\n",
       "      <th>customer_id</th>\n",
       "      <th>gender</th>\n",
       "      <th>age</th>\n",
       "      <th>payment_method</th>\n",
       "      <th>age_bracket</th>\n",
       "    </tr>\n",
       "  </thead>\n",
       "  <tbody>\n",
       "    <tr>\n",
       "      <th>0</th>\n",
       "      <td>C241288</td>\n",
       "      <td>Female</td>\n",
       "      <td>28.0</td>\n",
       "      <td>Credit Card</td>\n",
       "      <td>18-30</td>\n",
       "    </tr>\n",
       "    <tr>\n",
       "      <th>1</th>\n",
       "      <td>C111565</td>\n",
       "      <td>Male</td>\n",
       "      <td>21.0</td>\n",
       "      <td>Debit Card</td>\n",
       "      <td>18-30</td>\n",
       "    </tr>\n",
       "    <tr>\n",
       "      <th>2</th>\n",
       "      <td>C266599</td>\n",
       "      <td>Male</td>\n",
       "      <td>20.0</td>\n",
       "      <td>Cash</td>\n",
       "      <td>18-30</td>\n",
       "    </tr>\n",
       "    <tr>\n",
       "      <th>3</th>\n",
       "      <td>C988172</td>\n",
       "      <td>Female</td>\n",
       "      <td>66.0</td>\n",
       "      <td>Credit Card</td>\n",
       "      <td>60+</td>\n",
       "    </tr>\n",
       "    <tr>\n",
       "      <th>4</th>\n",
       "      <td>C189076</td>\n",
       "      <td>Female</td>\n",
       "      <td>53.0</td>\n",
       "      <td>Cash</td>\n",
       "      <td>46-60</td>\n",
       "    </tr>\n",
       "  </tbody>\n",
       "</table>\n",
       "</div>"
      ],
      "text/plain": [
       "  customer_id  gender   age payment_method age_bracket\n",
       "0     C241288  Female  28.0    Credit Card       18-30\n",
       "1     C111565    Male  21.0     Debit Card       18-30\n",
       "2     C266599    Male  20.0           Cash       18-30\n",
       "3     C988172  Female  66.0    Credit Card         60+\n",
       "4     C189076  Female  53.0           Cash       46-60"
      ]
     },
     "execution_count": 154,
     "metadata": {},
     "output_type": "execute_result"
    }
   ],
   "source": [
    "#viewing cleanded data sets\n",
    "customer.head()"
   ]
  },
  {
   "cell_type": "code",
   "execution_count": 155,
   "id": "9ccda7ec-b723-4467-9ee4-506b719b9a7b",
   "metadata": {},
   "outputs": [
    {
     "data": {
      "text/plain": [
       "(99457, 5)"
      ]
     },
     "execution_count": 155,
     "metadata": {},
     "output_type": "execute_result"
    }
   ],
   "source": [
    "customer.shape\n"
   ]
  },
  {
   "cell_type": "code",
   "execution_count": 156,
   "id": "7029602a-0ef4-45ac-bfea-b25c544bd0db",
   "metadata": {},
   "outputs": [
    {
     "data": {
      "text/html": [
       "<div>\n",
       "<style scoped>\n",
       "    .dataframe tbody tr th:only-of-type {\n",
       "        vertical-align: middle;\n",
       "    }\n",
       "\n",
       "    .dataframe tbody tr th {\n",
       "        vertical-align: top;\n",
       "    }\n",
       "\n",
       "    .dataframe thead th {\n",
       "        text-align: right;\n",
       "    }\n",
       "</style>\n",
       "<table border=\"1\" class=\"dataframe\">\n",
       "  <thead>\n",
       "    <tr style=\"text-align: right;\">\n",
       "      <th></th>\n",
       "      <th>invoice_no</th>\n",
       "      <th>customer_id</th>\n",
       "      <th>category</th>\n",
       "      <th>quantity</th>\n",
       "      <th>price</th>\n",
       "      <th>invoice_date</th>\n",
       "      <th>shopping_mall</th>\n",
       "      <th>total_value</th>\n",
       "    </tr>\n",
       "  </thead>\n",
       "  <tbody>\n",
       "    <tr>\n",
       "      <th>98687</th>\n",
       "      <td>I100008</td>\n",
       "      <td>C199951</td>\n",
       "      <td>Clothing</td>\n",
       "      <td>5</td>\n",
       "      <td>1500.40</td>\n",
       "      <td>2022-07-10</td>\n",
       "      <td>Emaar Square Mall</td>\n",
       "      <td>7502.00</td>\n",
       "    </tr>\n",
       "    <tr>\n",
       "      <th>19497</th>\n",
       "      <td>I100014</td>\n",
       "      <td>C138893</td>\n",
       "      <td>Cosmetics</td>\n",
       "      <td>5</td>\n",
       "      <td>203.30</td>\n",
       "      <td>2021-06-18</td>\n",
       "      <td>Viaport Outlet</td>\n",
       "      <td>1016.50</td>\n",
       "    </tr>\n",
       "    <tr>\n",
       "      <th>6950</th>\n",
       "      <td>I100015</td>\n",
       "      <td>C132779</td>\n",
       "      <td>Clothing</td>\n",
       "      <td>2</td>\n",
       "      <td>600.16</td>\n",
       "      <td>2021-03-04</td>\n",
       "      <td>Mall of Istanbul</td>\n",
       "      <td>1200.32</td>\n",
       "    </tr>\n",
       "    <tr>\n",
       "      <th>94698</th>\n",
       "      <td>I100024</td>\n",
       "      <td>C244411</td>\n",
       "      <td>Books</td>\n",
       "      <td>3</td>\n",
       "      <td>45.45</td>\n",
       "      <td>2023-01-05</td>\n",
       "      <td>Emaar Square Mall</td>\n",
       "      <td>136.35</td>\n",
       "    </tr>\n",
       "    <tr>\n",
       "      <th>36979</th>\n",
       "      <td>I100027</td>\n",
       "      <td>C150002</td>\n",
       "      <td>Technology</td>\n",
       "      <td>4</td>\n",
       "      <td>4200.00</td>\n",
       "      <td>2022-05-18</td>\n",
       "      <td>Mall of Istanbul</td>\n",
       "      <td>16800.00</td>\n",
       "    </tr>\n",
       "  </tbody>\n",
       "</table>\n",
       "</div>"
      ],
      "text/plain": [
       "      invoice_no customer_id    category  quantity    price invoice_date  \\\n",
       "98687    I100008     C199951    Clothing         5  1500.40   2022-07-10   \n",
       "19497    I100014     C138893   Cosmetics         5   203.30   2021-06-18   \n",
       "6950     I100015     C132779    Clothing         2   600.16   2021-03-04   \n",
       "94698    I100024     C244411       Books         3    45.45   2023-01-05   \n",
       "36979    I100027     C150002  Technology         4  4200.00   2022-05-18   \n",
       "\n",
       "           shopping_mall  total_value  \n",
       "98687  Emaar Square Mall      7502.00  \n",
       "19497     Viaport Outlet      1016.50  \n",
       "6950    Mall of Istanbul      1200.32  \n",
       "94698  Emaar Square Mall       136.35  \n",
       "36979   Mall of Istanbul     16800.00  "
      ]
     },
     "execution_count": 156,
     "metadata": {},
     "output_type": "execute_result"
    }
   ],
   "source": [
    "sales.head()"
   ]
  },
  {
   "cell_type": "code",
   "execution_count": 157,
   "id": "3de12c01-85a2-424f-b765-df3216c96041",
   "metadata": {},
   "outputs": [
    {
     "data": {
      "text/plain": [
       "(99457, 8)"
      ]
     },
     "execution_count": 157,
     "metadata": {},
     "output_type": "execute_result"
    }
   ],
   "source": [
    "sales.shape\n"
   ]
  },
  {
   "cell_type": "code",
   "execution_count": 158,
   "id": "84b8db3e-a180-4008-8298-7f6e37fc96b4",
   "metadata": {},
   "outputs": [],
   "source": [
    "#saving cleaned copies of datasets\n",
    "sales.to_csv('cleaned_sales_data1.csv', index=False)\n",
    "customer.to_csv('cleaned_customer_data1.csv', index=False)\n"
   ]
  },
  {
   "cell_type": "code",
   "execution_count": 159,
   "id": "e20d825d-bd46-4a6f-a5c2-544015bb76f2",
   "metadata": {},
   "outputs": [],
   "source": [
    "#integrate data from different datasets into a unified datase\n",
    "# Merge the datasets on 'customer_id'\n",
    "customer_sales_df = pd.merge(sales, customer, on='customer_id', how='inner')"
   ]
  },
  {
   "cell_type": "code",
   "execution_count": 160,
   "id": "026ea57c-6db2-4511-9edd-36859633e7c9",
   "metadata": {},
   "outputs": [
    {
     "data": {
      "text/html": [
       "<div>\n",
       "<style scoped>\n",
       "    .dataframe tbody tr th:only-of-type {\n",
       "        vertical-align: middle;\n",
       "    }\n",
       "\n",
       "    .dataframe tbody tr th {\n",
       "        vertical-align: top;\n",
       "    }\n",
       "\n",
       "    .dataframe thead th {\n",
       "        text-align: right;\n",
       "    }\n",
       "</style>\n",
       "<table border=\"1\" class=\"dataframe\">\n",
       "  <thead>\n",
       "    <tr style=\"text-align: right;\">\n",
       "      <th></th>\n",
       "      <th>invoice_no</th>\n",
       "      <th>customer_id</th>\n",
       "      <th>category</th>\n",
       "      <th>quantity</th>\n",
       "      <th>price</th>\n",
       "      <th>invoice_date</th>\n",
       "      <th>shopping_mall</th>\n",
       "      <th>total_value</th>\n",
       "      <th>gender</th>\n",
       "      <th>age</th>\n",
       "      <th>payment_method</th>\n",
       "      <th>age_bracket</th>\n",
       "    </tr>\n",
       "  </thead>\n",
       "  <tbody>\n",
       "    <tr>\n",
       "      <th>0</th>\n",
       "      <td>I100008</td>\n",
       "      <td>C199951</td>\n",
       "      <td>Clothing</td>\n",
       "      <td>5</td>\n",
       "      <td>1500.40</td>\n",
       "      <td>2022-07-10</td>\n",
       "      <td>Emaar Square Mall</td>\n",
       "      <td>7502.00</td>\n",
       "      <td>Male</td>\n",
       "      <td>65.0</td>\n",
       "      <td>Cash</td>\n",
       "      <td>60+</td>\n",
       "    </tr>\n",
       "    <tr>\n",
       "      <th>1</th>\n",
       "      <td>I100014</td>\n",
       "      <td>C138893</td>\n",
       "      <td>Cosmetics</td>\n",
       "      <td>5</td>\n",
       "      <td>203.30</td>\n",
       "      <td>2021-06-18</td>\n",
       "      <td>Viaport Outlet</td>\n",
       "      <td>1016.50</td>\n",
       "      <td>Male</td>\n",
       "      <td>55.0</td>\n",
       "      <td>Cash</td>\n",
       "      <td>46-60</td>\n",
       "    </tr>\n",
       "    <tr>\n",
       "      <th>2</th>\n",
       "      <td>I100015</td>\n",
       "      <td>C132779</td>\n",
       "      <td>Clothing</td>\n",
       "      <td>2</td>\n",
       "      <td>600.16</td>\n",
       "      <td>2021-03-04</td>\n",
       "      <td>Mall of Istanbul</td>\n",
       "      <td>1200.32</td>\n",
       "      <td>Female</td>\n",
       "      <td>35.0</td>\n",
       "      <td>Debit Card</td>\n",
       "      <td>31-45</td>\n",
       "    </tr>\n",
       "    <tr>\n",
       "      <th>3</th>\n",
       "      <td>I100024</td>\n",
       "      <td>C244411</td>\n",
       "      <td>Books</td>\n",
       "      <td>3</td>\n",
       "      <td>45.45</td>\n",
       "      <td>2023-01-05</td>\n",
       "      <td>Emaar Square Mall</td>\n",
       "      <td>136.35</td>\n",
       "      <td>Female</td>\n",
       "      <td>67.0</td>\n",
       "      <td>Credit Card</td>\n",
       "      <td>60+</td>\n",
       "    </tr>\n",
       "    <tr>\n",
       "      <th>4</th>\n",
       "      <td>I100027</td>\n",
       "      <td>C150002</td>\n",
       "      <td>Technology</td>\n",
       "      <td>4</td>\n",
       "      <td>4200.00</td>\n",
       "      <td>2022-05-18</td>\n",
       "      <td>Mall of Istanbul</td>\n",
       "      <td>16800.00</td>\n",
       "      <td>Female</td>\n",
       "      <td>19.0</td>\n",
       "      <td>Cash</td>\n",
       "      <td>18-30</td>\n",
       "    </tr>\n",
       "  </tbody>\n",
       "</table>\n",
       "</div>"
      ],
      "text/plain": [
       "  invoice_no customer_id    category  quantity    price invoice_date  \\\n",
       "0    I100008     C199951    Clothing         5  1500.40   2022-07-10   \n",
       "1    I100014     C138893   Cosmetics         5   203.30   2021-06-18   \n",
       "2    I100015     C132779    Clothing         2   600.16   2021-03-04   \n",
       "3    I100024     C244411       Books         3    45.45   2023-01-05   \n",
       "4    I100027     C150002  Technology         4  4200.00   2022-05-18   \n",
       "\n",
       "       shopping_mall  total_value  gender   age payment_method age_bracket  \n",
       "0  Emaar Square Mall      7502.00    Male  65.0           Cash         60+  \n",
       "1     Viaport Outlet      1016.50    Male  55.0           Cash       46-60  \n",
       "2   Mall of Istanbul      1200.32  Female  35.0     Debit Card       31-45  \n",
       "3  Emaar Square Mall       136.35  Female  67.0    Credit Card         60+  \n",
       "4   Mall of Istanbul     16800.00  Female  19.0           Cash       18-30  "
      ]
     },
     "execution_count": 160,
     "metadata": {},
     "output_type": "execute_result"
    }
   ],
   "source": [
    "#Viewing integrated data for validation\n",
    "customer_sales_df.head()"
   ]
  },
  {
   "cell_type": "code",
   "execution_count": 161,
   "id": "8764888b-9188-4b71-9268-8b8976fb243e",
   "metadata": {},
   "outputs": [
    {
     "name": "stdout",
     "output_type": "stream",
     "text": [
      "<class 'pandas.core.frame.DataFrame'>\n",
      "RangeIndex: 99457 entries, 0 to 99456\n",
      "Data columns (total 12 columns):\n",
      " #   Column          Non-Null Count  Dtype         \n",
      "---  ------          --------------  -----         \n",
      " 0   invoice_no      99457 non-null  object        \n",
      " 1   customer_id     99457 non-null  object        \n",
      " 2   category        99457 non-null  object        \n",
      " 3   quantity        99457 non-null  int64         \n",
      " 4   price           99457 non-null  float64       \n",
      " 5   invoice_date    99457 non-null  datetime64[ns]\n",
      " 6   shopping_mall   99457 non-null  object        \n",
      " 7   total_value     99457 non-null  float64       \n",
      " 8   gender          99457 non-null  object        \n",
      " 9   age             99457 non-null  float64       \n",
      " 10  payment_method  99457 non-null  object        \n",
      " 11  age_bracket     99457 non-null  category      \n",
      "dtypes: category(1), datetime64[ns](1), float64(3), int64(1), object(6)\n",
      "memory usage: 8.4+ MB\n"
     ]
    }
   ],
   "source": [
    "customer_sales_df.info()"
   ]
  },
  {
   "cell_type": "code",
   "execution_count": 162,
   "id": "99da6853-9104-4768-a8bc-32311b50725f",
   "metadata": {},
   "outputs": [
    {
     "data": {
      "text/plain": [
       "invoice_no        0\n",
       "customer_id       0\n",
       "category          0\n",
       "quantity          0\n",
       "price             0\n",
       "invoice_date      0\n",
       "shopping_mall     0\n",
       "total_value       0\n",
       "gender            0\n",
       "age               0\n",
       "payment_method    0\n",
       "age_bracket       0\n",
       "dtype: int64"
      ]
     },
     "execution_count": 162,
     "metadata": {},
     "output_type": "execute_result"
    }
   ],
   "source": [
    "customer_sales_df.isnull().sum()"
   ]
  },
  {
   "cell_type": "code",
   "execution_count": null,
   "id": "92ef0270-444c-4cf8-8326-1c752ac8927a",
   "metadata": {},
   "outputs": [],
   "source": [
    "#saving integrated dataset\n",
    "def save_integrated_dataset(df, filename):\n",
    "    try:\n",
    "        df.to_csv(filename, index=False)\n",
    "        print(\"File uploaded successfully.\")\n",
    "    except Exception as e:\n",
    "        print(\"Failed to upload the file. Error: {e}\")\n",
    "        \n",
    "save_integrated_dataset(customer_sales_df, 'Cleaned_customer_salesV.1.0.csv')"
   ]
  },
  {
   "cell_type": "code",
   "execution_count": 168,
   "id": "e2ebb22e-1691-45b0-8834-5698f930471d",
   "metadata": {},
   "outputs": [
    {
     "name": "stdout",
     "output_type": "stream",
     "text": [
      "File uploaded successfully.\n"
     ]
    }
   ],
   "source": [
    "#saving integrated dataset\n",
    "def save_integrated_dataset(df, filename):\n",
    "    try:\n",
    "        df.to_csv(filename, index=False)\n",
    "        print(\"File uploaded successfully.\")\n",
    "    except Exception as e:\n",
    "        print(\"Failed to upload the file. Error: {e}\")\n",
    "        \n",
    "save_integrated_dataset(customer_sales_df, 'Assignment2/Cleaned_customer_salesV.1.0.csv')"
   ]
  },
  {
   "cell_type": "code",
   "execution_count": null,
   "id": "f7fc3805-44cf-4087-815b-14eb9c0f5698",
   "metadata": {},
   "outputs": [],
   "source": [
    "Assignment2/Cleaned_customer_salesV.1.0.csv"
   ]
  },
  {
   "cell_type": "code",
   "execution_count": null,
   "id": "a160bbb6-1254-45f5-a065-59b991162cc4",
   "metadata": {},
   "outputs": [],
   "source": [
    "# Convert the 'invoice_date' column to datetime format\n",
    "sales['invoice_date'] = pd.to_datetime(sales['invoice_date'], format='%d-%m-%Y')\n"
   ]
  },
  {
   "cell_type": "code",
   "execution_count": null,
   "id": "7eda5c61-4200-4edb-9417-11f5c0fa6e7e",
   "metadata": {},
   "outputs": [],
   "source": []
  }
 ],
 "metadata": {
  "kernelspec": {
   "display_name": "Python 3 (ipykernel)",
   "language": "python",
   "name": "python3"
  },
  "language_info": {
   "codemirror_mode": {
    "name": "ipython",
    "version": 3
   },
   "file_extension": ".py",
   "mimetype": "text/x-python",
   "name": "python",
   "nbconvert_exporter": "python",
   "pygments_lexer": "ipython3",
   "version": "3.11.7"
  }
 },
 "nbformat": 4,
 "nbformat_minor": 5
}
